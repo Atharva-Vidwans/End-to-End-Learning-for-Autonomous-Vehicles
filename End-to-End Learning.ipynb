{
 "cells": [
  {
   "cell_type": "code",
   "execution_count": 1,
   "metadata": {},
   "outputs": [],
   "source": [
    "import csv\n",
    "import cv2\n",
    "import matplotlib.pyplot as plt\n",
    "import os\n",
    "import numpy as np\n",
    "from tensorflow.keras.models import Sequential \n",
    "from tensorflow.keras.layers import Flatten, Dense, Lambda, Dropout, Activation\n",
    "from tensorflow.keras.layers import Conv2D, Cropping2D, Convolution2D\n",
    "from tensorflow.keras.layers import MaxPooling2D\n",
    "from tensorflow.keras.models import Model"
   ]
  },
  {
   "cell_type": "code",
   "execution_count": 2,
   "metadata": {},
   "outputs": [
    {
     "name": "stdout",
     "output_type": "stream",
     "text": [
      "DONE 1\n",
      "DONE 2\n",
      "DONE 3\n"
     ]
    }
   ],
   "source": [
    "lines=[]\n",
    "#with open('data/driving_log.csv') as csvfile:\n",
    "with open('data\\driving_log.csv') as csvfile:\n",
    "    reader = csv.reader(csvfile)\n",
    "    for line in reader:\n",
    "        lines.append(line)\n",
    "lines=lines[1:]  \n",
    "            \n",
    "images=[]\n",
    "measurements=[]\n",
    "for line in lines:\n",
    "    source_path = line[0]\n",
    "    filename = source_path.split('/')[-1]\n",
    "    current_path = os.path.join('data\\IMG', filename)\n",
    "    #current_path = 'data/IMG/' + filename    \n",
    "    image = plt.imread(current_path)\n",
    "    #gray = cv2.cvtColor(image, cv2.COLOR_BGR2GRAY)\n",
    "    #gray = gray[70:135, 0:]\n",
    "    images.append(image)\n",
    "    measurement = float(line[3])\n",
    "    measurements.append(measurement)\n",
    "    images.append(cv2.flip(image, 1))\n",
    "    measurements.append(measurement*-1)\n",
    "print(\"DONE 1\")    \n",
    "\n",
    "for line in lines:\n",
    "    source_path = line[1]\n",
    "    filename = source_path.split('/')[-1]\n",
    "    current_path = os.path.join('data\\IMG', filename)\n",
    "    #current_path = 'data/IMG/' + filename    \n",
    "    image = plt.imread(current_path)\n",
    "    #gray = cv2.cvtColor(image, cv2.COLOR_BGR2GRAY)\n",
    "    #gray = gray[70:135, 0:]\n",
    "    images.append(image)\n",
    "    measurement = float(line[3]) + float(0.2)\n",
    "    measurements.append(measurement)\n",
    "    images.append(cv2.flip(image, 1))\n",
    "    measurements.append(measurement*-1)\n",
    "print(\"DONE 2\")\n",
    "        \n",
    "for line in lines:\n",
    "    source_path = line[2]\n",
    "    filename = source_path.split('/')[-1]\n",
    "    current_path = os.path.join('data\\IMG', filename)\n",
    "    #current_path = 'data/IMG/' + filename    \n",
    "    image = plt.imread(current_path)\n",
    "    #gray = cv2.cvtColor(image, cv2.COLOR_BGR2GRAY)\n",
    "    #gray = gray[70:135, 0:]\n",
    "    images.append(image)\n",
    "    measurement = float(line[3]) - float(0.2)\n",
    "    measurements.append(measurement)\n",
    "    images.append(cv2.flip(image, 1))\n",
    "    measurements.append(measurement*-1)    \n",
    "print(\"DONE 3\")    \n",
    "    "
   ]
  },
  {
   "cell_type": "code",
   "execution_count": 3,
   "metadata": {},
   "outputs": [
    {
     "name": "stdout",
     "output_type": "stream",
     "text": [
      "(48216, 160, 320, 3)\n",
      "(48216,)\n"
     ]
    }
   ],
   "source": [
    "X_train = np.array(images)\n",
    "y_train = np.array(measurements)\n",
    "\n",
    "print(X_train.shape)\n",
    "print(y_train.shape)\n",
    "\n"
   ]
  },
  {
   "cell_type": "code",
   "execution_count": 4,
   "metadata": {},
   "outputs": [],
   "source": [
    "# X_train = X_train[:,65:140,:]\n",
    "# X_train = X_train.reshape(X_train.shape[0],X_train.shape[1],X_train.shape[2],1)\n",
    "# X_train.shape"
   ]
  },
  {
   "cell_type": "code",
   "execution_count": 5,
   "metadata": {},
   "outputs": [],
   "source": [
    "# Custom Model\n",
    "def Custom_model():\n",
    "    model = Sequential()\n",
    "    model.add(Lambda(lambda x: x/255.0, input_shape=(160, 320, 3)))\n",
    "    model.add(Cropping2D(cropping=((75,25),(0,0))))\n",
    "    model.add(Conv2D(32, (3, 3)))\n",
    "    model.add(MaxPooling2D((2, 2)))\n",
    "    model.add(Dropout(0.5))\n",
    "    model.add(Activation('relu'))\n",
    "    model.add(Flatten())\n",
    "    model.add(Dense(128))\n",
    "    model.add(Activation('relu'))\n",
    "    model.add(Dense(84))\n",
    "    model.add(Activation('relu'))\n",
    "    model.add(Dense(1))\n",
    "\n",
    "    return model\n",
    "\n",
    "\n",
    "# Nvidia Model\n",
    "def Nvidia_model(): \n",
    "    model = Sequential()\n",
    "    model.add(Lambda(lambda x: x/255.0, input_shape=(160, 320, 3)))\n",
    "    model.add(Cropping2D(cropping=((75,25),(0,0))))\n",
    "    model.add(Convolution2D(24,5,5,subsample=(2,2),activation='relu'))\n",
    "    model.add(Convolution2D(36,5,5,subsample=(2,2),activation='relu'))\n",
    "    model.add(Convolution2D(48,5,5,subsample=(2,2),activation='relu'))\n",
    "    model.add(Convolution2D(64,5,5,activation='relu'))\n",
    "    model.add(Convolution2D(64,5,5,activation='relu'))\n",
    "    model.add(Flatten())\n",
    "    model.add(Dense(100))\n",
    "    model.add(Dense(50))\n",
    "    model.add(Dense(10))\n",
    "    model.add(Dense(1))\n",
    "    \n",
    "    return model\n",
    "\n",
    "model = Custom_model()\n",
    "#model = Nvidia_model()"
   ]
  },
  {
   "cell_type": "code",
   "execution_count": 6,
   "metadata": {},
   "outputs": [
    {
     "name": "stdout",
     "output_type": "stream",
     "text": [
      "Epoch 1/5\n",
      "1206/1206 [==============================] - 750s 620ms/step - loss: 1.8341 - val_loss: 0.0357\n",
      "Epoch 2/5\n",
      "1206/1206 [==============================] - 777s 644ms/step - loss: 0.0234 - val_loss: 0.0300\n",
      "Epoch 3/5\n",
      "1206/1206 [==============================] - 784s 650ms/step - loss: 0.0165 - val_loss: 0.0293\n",
      "Epoch 4/5\n",
      "1206/1206 [==============================] - 754s 625ms/step - loss: 0.0142 - val_loss: 0.0297\n",
      "Epoch 5/5\n",
      "1206/1206 [==============================] - 1058s 878ms/step - loss: 0.0137 - val_loss: 0.0284\n"
     ]
    }
   ],
   "source": [
    "model.compile(loss='mse', optimizer='adam')\n",
    "history = model.fit(X_train, y_train, validation_split=0.2, shuffle=True, epochs=5)"
   ]
  },
  {
   "cell_type": "code",
   "execution_count": 9,
   "metadata": {},
   "outputs": [
    {
     "data": {
      "image/png": "[encoded data removed]",
      "text/plain": [
       "<Figure size 432x288 with 1 Axes>"
      ]
     },
     "metadata": {
      "needs_background": "light"
     },
     "output_type": "display_data"
    }
   ],
   "source": [
    "plt.plot(history.history['loss'])\n",
    "plt.plot(history.history['val_loss'])\n",
    "plt.title('model mean squared error loss')\n",
    "plt.ylabel('mean squared error loss')\n",
    "plt.xlabel('epoch')\n",
    "plt.legend(['training set', 'validation set'], loc='upper right')\n",
    "plt.show()"
   ]
  }
 ],
 "metadata": {
  "kernelspec": {
   "display_name": "Python 3",
   "language": "python",
   "name": "python3"
  },
  "language_info": {
   "codemirror_mode": {
    "name": "ipython",
    "version": 3
   },
   "file_extension": ".py",
   "mimetype": "text/x-python",
   "name": "python",
   "nbconvert_exporter": "python",
   "pygments_lexer": "ipython3",
   "version": "3.8.2"
  }
 },
 "nbformat": 4,
 "nbformat_minor": 4
}
